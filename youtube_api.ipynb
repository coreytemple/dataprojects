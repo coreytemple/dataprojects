{
 "cells": [
  {
   "cell_type": "markdown",
   "id": "686b8f8d-4c39-41ae-b9a9-d79477983d55",
   "metadata": {},
   "source": [
    "# Youtube API\n",
    "This program is designed to access the YouTube API and pull information on channels, playlists and videos.\n",
    "\n",
    "## Importing Modules\n",
    "\n",
    "First the modules that will be used must be imported."
   ]
  },
  {
   "cell_type": "code",
   "execution_count": 1,
   "id": "3e515e45-6f21-4307-b1e6-8b8c69fafe7f",
   "metadata": {},
   "outputs": [],
   "source": [
    "# googleapiclient imported to access the youtube api\n",
    "import googleapiclient.discovery\n",
    "import googleapiclient.errors\n",
    "# pandas imported to create a dataframe with the information pulled.\n",
    "import pandas as pd\n",
    "# isodate imported to convert the youtube duration iso into a datetime format.\n",
    "import isodate\n",
    "# matplotlib and seaborn imported to create attractive visuals with the data.\n",
    "import matplotlib.pyplot as plt\n",
    "import seaborn as sns"
   ]
  },
  {
   "cell_type": "markdown",
   "id": "edaa853a-7bf6-4395-9c83-a93fe518227e",
   "metadata": {},
   "source": [
    "## Accessing YouTube API\n",
    "\n",
    "This code can be found at https://developers.google.com/youtube/v3/docs/channels/list. Youtube API can be accessed using a generated API key, found in the credentials section of Google Cloud. The channel id chosen in this example is from the Sidemen, a channel my wife and I enjoy. Any channel id can be substituted or multiple channel ids created as a list. "
   ]
  },
  {
   "cell_type": "code",
   "execution_count": 2,
   "id": "71b40937-7d8b-48f9-aed6-193b98f102d0",
   "metadata": {},
   "outputs": [],
   "source": [
    "scopes = [\"https://www.googleapis.com/auth/youtube.readonly\"]\n",
    "# The youtube api key can be generated in the credentials section of Google Cloud.\n",
    "api_key = \"\"\n",
    "api_service_name = \"youtube\"\n",
    "api_version = \"v3\"\n",
    "# Enter the channel id chosen, or a list of channel ids.\n",
    "channel_ids = [\"UCDogdKl7t7NHzQ95aEwkdMw\"]\n",
    "youtube = googleapiclient.discovery.build(\n",
    "    api_service_name, api_version, developerKey=api_key)"
   ]
  },
  {
   "cell_type": "markdown",
   "id": "1495d022-7c86-41f4-b82c-087a2e73b499",
   "metadata": {},
   "source": [
    "## Creating a dataframe of channel details\n",
    "\n",
    "This function creates a dataframe of the selected channel(s). This dataframe will contain the information included within the for loop below. One of the more important items is the playlistId, this is used in the next function."
   ]
  },
  {
   "cell_type": "code",
   "execution_count": 3,
   "id": "1e0d8631-c68b-4106-b150-f368e2f67621",
   "metadata": {},
   "outputs": [],
   "source": [
    "def get_channel_data(youtube, channel_ids):\n",
    "    all_data = []\n",
    "    \n",
    "    request=youtube.channels().list(\n",
    "        part=\"snippet, contentDetails, statistics\",\n",
    "        id=\",\".join(channel_ids)\n",
    "    )\n",
    "    response = request.execute()\n",
    "    \n",
    "    for item in response[\"items\"]:\n",
    "        data={\n",
    "            \"channelName\": item[\"snippet\"][\"title\"],\n",
    "            \"subscribers\": item[\"statistics\"][\"subscriberCount\"],\n",
    "            \"views\": item[\"statistics\"][\"viewCount\"],\n",
    "            \"totalVideos\": item[\"statistics\"][\"videoCount\"],\n",
    "            \"playlistId\": item[\"contentDetails\"][\"relatedPlaylists\"][\"uploads\"]\n",
    "        }\n",
    "        all_data.append(data)\n",
    "    \n",
    "    return pd.DataFrame(all_data)"
   ]
  },
  {
   "cell_type": "code",
   "execution_count": 4,
   "id": "68a4bc45-67a0-4ea9-83ff-ac3b08cedad1",
   "metadata": {},
   "outputs": [],
   "source": [
    "channel_stats = get_channel_data(youtube, channel_ids)"
   ]
  },
  {
   "cell_type": "markdown",
   "id": "fc24ed5a-eb27-4d68-91bc-ae15b7355f58",
   "metadata": {},
   "source": [
    "## Creating a list of videos\n",
    "\n",
    "This function creates a list of the videos contained within the playlistId returned from the previous function. The while loop contained below allows all videos in the playlist to be returned, otherwise the function would only return the first 50. "
   ]
  },
  {
   "cell_type": "code",
   "execution_count": 5,
   "id": "dfc3943f-3810-4388-b02e-99db9e199aab",
   "metadata": {},
   "outputs": [],
   "source": [
    "def get_video_ids(youtube, dataframe):\n",
    "    \n",
    "    video_ids = []\n",
    "    for column in dataframe[\"playlistId\"]:\n",
    "    \n",
    "        request = youtube.playlistItems().list(\n",
    "                part=\"snippet, contentDetails\",\n",
    "                playlistId=column,\n",
    "                maxResults=50\n",
    "            )\n",
    "        while request:\n",
    "\n",
    "            response = request.execute()\n",
    "\n",
    "            for item in response[\"items\"]:\n",
    "                video_ids.append(item[\"contentDetails\"][\"videoId\"])\n",
    "            request = youtube.search().list_next(request, response)\n",
    "\n",
    "    return video_ids"
   ]
  },
  {
   "cell_type": "code",
   "execution_count": 6,
   "id": "c37671dc-410b-4f42-8e12-93d170e9b141",
   "metadata": {},
   "outputs": [],
   "source": [
    "video_ids = get_video_ids(youtube, channel_stats)"
   ]
  },
  {
   "cell_type": "markdown",
   "id": "83439779-6382-4205-949c-0745ada4e81b",
   "metadata": {},
   "source": [
    "## Finding the video details\n",
    "\n",
    "This function iterates through the list of videos returned from the previous function and pulls the information contained in the for loop. It then turns this information into a dataframe that can be used for more in depth analysis. The try method below will add information to the list as long as it exist and return a None value if the information is missing."
   ]
  },
  {
   "cell_type": "code",
   "execution_count": 7,
   "id": "b25acab9-6200-44a1-90dc-ce271d6ef3b0",
   "metadata": {},
   "outputs": [],
   "source": [
    "def get_video_details(youtube, video_ids):\n",
    "\n",
    "    all_video_info = []\n",
    "\n",
    "    for i in range(0, len(video_ids), 50):\n",
    "\n",
    "        request = youtube.videos().list(\n",
    "                part=\"snippet, contentDetails, statistics\",\n",
    "                id=\",\".join(video_ids[i:i+50])\n",
    "            )\n",
    "        response = request.execute()\n",
    "\n",
    "        for video in response[\"items\"]:\n",
    "            stats_to_keep = {\"snippet\": [\"channelTitle\", \"title\", \"description\", \"tags\", \"publishedAt\"],\n",
    "                             \"statistics\": [\"viewCount\", \"likeCount\", \"favoriteCount\", \"commentCount\"],\n",
    "                             \"contentDetails\": [\"duration\", \"definition\", \"caption\"]}\n",
    "            video_info = {}\n",
    "            video_info[\"video_id\"] = video[\"id\"]\n",
    "\n",
    "            for k in stats_to_keep:\n",
    "                for v in stats_to_keep[k]:\n",
    "                    try:\n",
    "                        video_info[v] = video[k][v]\n",
    "                    except:\n",
    "                        video_info[v] = None\n",
    "\n",
    "            all_video_info.append(video_info)\n",
    "    return pd.DataFrame(all_video_info)"
   ]
  },
  {
   "cell_type": "code",
   "execution_count": 8,
   "id": "8e343438-e2d4-4cee-b7dc-a68eb5758187",
   "metadata": {},
   "outputs": [],
   "source": [
    "video_df = get_video_details(youtube, video_ids)"
   ]
  },
  {
   "cell_type": "markdown",
   "id": "9a46707e-1003-4a41-aefa-f1ee617092b5",
   "metadata": {},
   "source": [
    "## Data Preprocessing\n",
    "\n",
    "To observe if the data returned is clean, some preprocessing is used to determine the cleanliness of the data. Some of the videos are missing information on the view count and like count. Also the dtypes function is used to determine the type of data contained within each column. It appears every column is an object data type. This means that some columns used in analysis will have to be changed."
   ]
  },
  {
   "cell_type": "code",
   "execution_count": 9,
   "id": "61f79fdc-9137-41b0-9eb4-bcb9670079dd",
   "metadata": {},
   "outputs": [
    {
     "name": "stdout",
     "output_type": "stream",
     "text": [
      "video_id         False\n",
      "channelTitle     False\n",
      "title            False\n",
      "description      False\n",
      "tags             False\n",
      "publishedAt      False\n",
      "viewCount         True\n",
      "likeCount         True\n",
      "favoriteCount    False\n",
      "commentCount     False\n",
      "duration         False\n",
      "definition       False\n",
      "caption          False\n",
      "dtype: bool\n",
      "video_id         object\n",
      "channelTitle     object\n",
      "title            object\n",
      "description      object\n",
      "tags             object\n",
      "publishedAt      object\n",
      "viewCount        object\n",
      "likeCount        object\n",
      "favoriteCount    object\n",
      "commentCount     object\n",
      "duration         object\n",
      "definition       object\n",
      "caption          object\n",
      "dtype: object\n"
     ]
    }
   ],
   "source": [
    "print(video_df.isnull().any())\n",
    "print(video_df.dtypes)"
   ]
  },
  {
   "cell_type": "markdown",
   "id": "ed341840-9132-4fcb-9553-b4523bd3bf5f",
   "metadata": {},
   "source": [
    "## Cleaning data and creating columns\n",
    "\n",
    "The numeric columns are converted into numbers instead of objects. This is also where the duration is changed from an iso format into a datetime format. Two new columns are also created to track the day of the week in which the video was uploaded and to count how many tags are on each video."
   ]
  },
  {
   "cell_type": "code",
   "execution_count": 10,
   "id": "8597d925-8e86-4571-81cd-6faa5bff8d3e",
   "metadata": {},
   "outputs": [],
   "source": [
    "numeric_cols = [\"viewCount\", \"likeCount\", \"favoriteCount\", \"commentCount\"]\n",
    "video_df[numeric_cols] = video_df[numeric_cols].apply(pd.to_numeric, errors=\"coerce\", axis=1)\n",
    "video_df[\"dayPublished\"] = pd.to_datetime(video_df[\"publishedAt\"])\n",
    "video_df[\"dayPublished\"] = video_df[\"dayPublished\"].dt.day_name()\n",
    "video_df[\"durationTime\"] = video_df[\"duration\"].apply(lambda x: isodate.parse_duration(x))\n",
    "video_df[\"tagCount\"] = video_df[\"tags\"].apply(lambda x: 0 if x is None else len(x))"
   ]
  },
  {
   "cell_type": "markdown",
   "id": "d3b35543-14a2-4a5b-8b09-149eeb13485c",
   "metadata": {},
   "source": [
    "## Graphing data\n",
    "\n",
    "With the data gathered and cleaned it is now possible to gather some insight into the data.\n",
    "First with a plot showing the top 10 videos on the channel. This plot gives the title of the videos and the number of views they received."
   ]
  },
  {
   "cell_type": "code",
   "execution_count": 11,
   "id": "e179a3f4-ef5d-48d5-b8de-f3d555c36336",
   "metadata": {},
   "outputs": [
    {
     "data": {
      "image/png": "[encoded data removed]",
      "text/plain": [
       "<Figure size 432x288 with 1 Axes>"
      ]
     },
     "metadata": {
      "needs_background": "light"
     },
     "output_type": "display_data"
    }
   ],
   "source": [
    "ax = sns.barplot(x=\"title\", y=\"viewCount\", data=video_df.sort_values(\"viewCount\", ascending=False)[0:10])\n",
    "ax.tick_params(axis=\"x\", rotation=90)\n",
    "plt.show()"
   ]
  },
  {
   "cell_type": "markdown",
   "id": "f686267c-04bf-4642-9696-9b50d025a22a",
   "metadata": {},
   "source": [
    "This next plot is a violin plot showing the number of views the videos recieve. On average it would appear the videos on this channel earn between 1 and 2 million views. However there are some outliers that earn 6 to 8 million views."
   ]
  },
  {
   "cell_type": "code",
   "execution_count": 12,
   "id": "81add384-a769-477e-9c8c-127bd5d0ac4a",
   "metadata": {},
   "outputs": [
    {
     "name": "stderr",
     "output_type": "stream",
     "text": [
      "C:\\Users\\cotem\\anaconda3\\lib\\site-packages\\seaborn\\_decorators.py:36: FutureWarning: Pass the following variables as keyword args: x, y. From version 0.12, the only valid positional argument will be `data`, and passing other arguments without an explicit keyword will result in an error or misinterpretation.\n",
      "  warnings.warn(\n"
     ]
    },
    {
     "data": {
      "image/png": "[encoded data removed]",
      "text/plain": [
       "<Figure size 432x288 with 1 Axes>"
      ]
     },
     "metadata": {
      "needs_background": "light"
     },
     "output_type": "display_data"
    }
   ],
   "source": [
    "sns.violinplot(video_df[\"channelTitle\"], video_df[\"viewCount\"])\n",
    "plt.show()"
   ]
  },
  {
   "cell_type": "code",
   "execution_count": 13,
   "id": "699561ac-d40a-4230-bc04-8c153428b817",
   "metadata": {},
   "outputs": [],
   "source": [
    "day_df = pd.DataFrame(video_df[\"dayPublished\"].value_counts())\n",
    "weekdays = [\"Sunday\", \"Monday\", \"Tuesday\", \"Wednesday\", \"Thursday\", \"Friday\", \"Saturday\"]\n",
    "day_df = day_df.reindex(weekdays)"
   ]
  },
  {
   "cell_type": "markdown",
   "id": "a54f2f34-e2a9-4102-921f-d58f869d6dab",
   "metadata": {},
   "source": [
    "Finally this plot shows how many videos have been uploaded per day of the week. The vast majority of this channel's videos are uploaded on Sunday which matches the marketing on many of the videos being labeled as Sidemen Sunday."
   ]
  },
  {
   "cell_type": "code",
   "execution_count": 14,
   "id": "c69b8f2d-ce09-4a2e-b10d-897429e72a72",
   "metadata": {},
   "outputs": [
    {
     "data": {
      "image/png": "[encoded data removed]",
      "text/plain": [
       "<Figure size 432x288 with 1 Axes>"
      ]
     },
     "metadata": {
      "needs_background": "light"
     },
     "output_type": "display_data"
    }
   ],
   "source": [
    "ax = sns.barplot(data=day_df, x=day_df.index, y=\"dayPublished\")\n",
    "ax.set(xlabel=\"Day Published\", ylabel=\"Number of Videos\")\n",
    "plt.show()"
   ]
  }
 ],
 "metadata": {
  "kernelspec": {
   "display_name": "Python 3 (ipykernel)",
   "language": "python",
   "name": "python3"
  },
  "language_info": {
   "codemirror_mode": {
    "name": "ipython",
    "version": 3
   },
   "file_extension": ".py",
   "mimetype": "text/x-python",
   "name": "python",
   "nbconvert_exporter": "python",
   "pygments_lexer": "ipython3",
   "version": "3.9.7"
  }
 },
 "nbformat": 4,
 "nbformat_minor": 5
}
